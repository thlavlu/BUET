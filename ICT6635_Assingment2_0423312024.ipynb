{
  "nbformat": 4,
  "nbformat_minor": 0,
  "metadata": {
    "colab": {
      "provenance": [],
      "authorship_tag": "ABX9TyOy21WZG6b7S4QQ4NpmdkQD",
      "include_colab_link": true
    },
    "kernelspec": {
      "name": "python3",
      "display_name": "Python 3"
    },
    "language_info": {
      "name": "python"
    }
  },
  "cells": [
    {
      "cell_type": "markdown",
      "metadata": {
        "id": "view-in-github",
        "colab_type": "text"
      },
      "source": [
        "<a href=\"https://colab.research.google.com/github/thlavlu/BUET/blob/main/ICT6635_Assingment2_0423312024.ipynb\" target=\"_parent\"><img src=\"https://colab.research.google.com/assets/colab-badge.svg\" alt=\"Open In Colab\"/></a>"
      ]
    },
    {
      "cell_type": "markdown",
      "source": [
        "# Complete the function DFS in the following solution."
      ],
      "metadata": {
        "id": "ImkD789Cqfuu"
      }
    },
    {
      "cell_type": "code",
      "execution_count": null,
      "metadata": {
        "colab": {
          "base_uri": "https://localhost:8080/"
        },
        "id": "Rq5ngCfGNDAf",
        "outputId": "aba43a56-3fe4-44a1-f930-eac3b5e4b668"
      },
      "outputs": [
        {
          "output_type": "stream",
          "name": "stdout",
          "text": [
            "['A', 'B', 'D', 'E', 'C', 'F']\n"
          ]
        }
      ],
      "source": [
        "#Given graph\n",
        "graph = {\n",
        "    'A' : ['B','C'],\n",
        "    'B' : ['D','E'],\n",
        "    'C' : ['F','G'],\n",
        "    'D' : [],\n",
        "    'E' : [],\n",
        "    'F' : [],\n",
        "    'G' : []\n",
        "}\n",
        "\n",
        "goal='F'\n",
        "visited = []\n",
        "#Algorithm\n",
        "def dfs(visited, graph, node):\n",
        "    if(node==goal):\n",
        "        visited.append(node)\n",
        "        return True\n",
        "    visited.append(node)\n",
        "    for n in graph.get(node, []):\n",
        "        if n not in visited:\n",
        "           if dfs(visited, graph,n):\n",
        "               return True\n",
        "    return False\n",
        "\n",
        "dfs(visited, graph,'A')\n",
        "#printing the path\n",
        "print(visited)"
      ]
    }
  ]
}