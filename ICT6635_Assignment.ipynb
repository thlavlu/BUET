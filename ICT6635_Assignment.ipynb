{
  "nbformat": 4,
  "nbformat_minor": 0,
  "metadata": {
    "colab": {
      "provenance": [],
      "authorship_tag": "ABX9TyMSaUSy7obNezRWN1jYx7Bs",
      "include_colab_link": true
    },
    "kernelspec": {
      "name": "python3",
      "display_name": "Python 3"
    },
    "language_info": {
      "name": "python"
    }
  },
  "cells": [
    {
      "cell_type": "markdown",
      "metadata": {
        "id": "view-in-github",
        "colab_type": "text"
      },
      "source": [
        "<a href=\"https://colab.research.google.com/github/thlavlu/BUET/blob/main/ICT6635_Assignment.ipynb\" target=\"_parent\"><img src=\"https://colab.research.google.com/assets/colab-badge.svg\" alt=\"Open In Colab\"/></a>"
      ]
    },
    {
      "cell_type": "code",
      "execution_count": null,
      "metadata": {
        "colab": {
          "base_uri": "https://localhost:8080/"
        },
        "id": "h2kWe7XExKbU",
        "outputId": "49d227b8-950b-4ed6-aea6-70edb81076e2"
      },
      "outputs": [
        {
          "output_type": "stream",
          "name": "stdout",
          "text": [
            "First 3 principal components (computed using covariance and SVD):\n",
            "[[-0.70710678 -0.70710678]\n",
            " [ 0.70710678 -0.70710678]]\n"
          ]
        }
      ],
      "source": [
        "import numpy as np\n",
        "\n",
        "# Create an example dataset\n",
        "data = np.array([[1, 2],\n",
        "                 [4, 5],\n",
        "                 [7, 8]])\n",
        "\n",
        "# Compute the mean of each feature\n",
        "mean = np.mean(data, axis=0)\n",
        "\n",
        "# Center the data\n",
        "centered_data = data - mean\n",
        "\n",
        "# Compute the covariance matrix\n",
        "cov_matrix = np.cov(centered_data, rowvar=False)\n",
        "\n",
        "# Compute SVD of the covariance matrix\n",
        "U, S, Vt = np.linalg.svd(cov_matrix)\n",
        "\n",
        "# Get the first 3 principal components\n",
        "pca_components = Vt[:3]\n",
        "\n",
        "print(\"First 3 principal components (computed using covariance and SVD):\")\n",
        "print(pca_components)\n"
      ]
    },
    {
      "cell_type": "code",
      "source": [],
      "metadata": {
        "id": "CaRP988rffm4"
      },
      "execution_count": null,
      "outputs": []
    }
  ]
}